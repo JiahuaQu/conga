{
 "cells": [
  {
   "cell_type": "markdown",
   "metadata": {},
   "source": [
    "# Simple CoNGA pipeline\n",
    "\n",
    "This should be roughly equivalent to running the two commands:\n",
    "\n",
    "**SETUP:**\n",
    "```\n",
    "python scripts/setup_10x_for_conga.py --filtered_contig_annotations_csvfile ./conga_datasets/raw/vdj_v1_hs_pbmc_t_filtered_contig_annotations.csv --organism human --output_clones_file tmp_hs_pbmc_clones.tsv\n",
    "```\n",
    "\n",
    "**ANALYSIS:**\n",
    "```\n",
    "python scripts/run_conga.py --gex_data ./conga_datasets/raw/vdj_v1_hs_pbmc_5gex_filtered_gene_bc_matrices_h5.h5 --gex_data_type 10x_h5 --clones_file tmp_hs_pbmc_clones.tsv --organism human --graph_vs_graph --outfile_prefix tmp_hs_pbmc \n",
    "```"
   ]
  },
  {
   "cell_type": "code",
   "execution_count": null,
   "metadata": {},
   "outputs": [],
   "source": [
    "%matplotlib inline\n",
    "\n",
    "import scanpy as sc\n",
    "import conga\n",
    "#import conga.tc\n",
    "import pandas as pd\n",
    "import numpy as np\n",
    "import matplotlib.pyplot as plt\n",
    "\n",
    "from conga.tcrdist.make_10x_clones_file import make_10x_clones_file"
   ]
  },
  {
   "cell_type": "markdown",
   "metadata": {},
   "source": [
    "## Input data, output paths"
   ]
  },
  {
   "cell_type": "code",
   "execution_count": null,
   "metadata": {},
   "outputs": [],
   "source": [
    "# you might have to change these paths depending on what you want to analyze\n",
    "gex_datafile = './conga_datasets/raw/vdj_v1_hs_pbmc_5gex_filtered_gene_bc_matrices_h5.h5'\n",
    "gex_datatype = '10x_h5' # other possibilities right now: ['10x_mtx', 'h5ad'] (h5ad from scanpy)\n",
    "tcr_datafile = './conga_datasets/raw/vdj_v1_hs_pbmc_t_filtered_contig_annotations.csv'\n",
    "organism = 'human'\n",
    "\n",
    "clones_file = 'tmp_hs_pbmc_clones.tsv'\n",
    "outfile_prefix = 'tmp_hs_pbmc'\n"
   ]
  },
  {
   "cell_type": "markdown",
   "metadata": {},
   "source": [
    "## Setup for conga: make a TCRdist clones_file and compute kernel PCs"
   ]
  },
  {
   "cell_type": "code",
   "execution_count": null,
   "metadata": {},
   "outputs": [],
   "source": [
    "# this creates the TCRdist 'clones file'\n",
    "\n",
    "make_10x_clones_file( tcr_datafile, organism, clones_file )\n",
    "\n",
    "# this command will create another file with the kernel PCs for subsequent reading by conga\n",
    "conga.preprocess.make_tcrdist_kernel_pcs_file_from_clones_file( clones_file, organism )"
   ]
  },
  {
   "cell_type": "markdown",
   "metadata": {},
   "source": [
    "## Read the data, create a scanpy AnnData object with everything inside"
   ]
  },
  {
   "cell_type": "code",
   "execution_count": null,
   "metadata": {},
   "outputs": [],
   "source": [
    "adata = conga.preprocess.read_dataset(gex_datafile, gex_datatype, clones_file )\n",
    "\n",
    "# store the organism info in adata\n",
    "adata.uns['organism'] = organism\n",
    "\n",
    "adata"
   ]
  },
  {
   "cell_type": "markdown",
   "metadata": {},
   "source": [
    "Note that the AnnData object contains the TCR sequence information in the `obs` array, stored with the  `['va',..., 'cdr3b_nucseq']` fields.\n",
    "\n",
    "It also contains the TCRdist kernel PCS in the `obsm` array stored under the key `'X_pca_tcr'`"
   ]
  },
  {
   "cell_type": "code",
   "execution_count": null,
   "metadata": {},
   "outputs": [],
   "source": [
    "# top 50 TCRdist kPCS \n",
    "adata.obsm['X_pca_tcr'].shape"
   ]
  },
  {
   "cell_type": "code",
   "execution_count": null,
   "metadata": {},
   "outputs": [],
   "source": [
    "# CDR3-alpha regions:\n",
    "adata.obs['cdr3a'].head(3)"
   ]
  },
  {
   "cell_type": "markdown",
   "metadata": {},
   "source": [
    "## Do some very basic scGEX filtering\n",
    "\n",
    "You could customize this or replace it with something else entirely."
   ]
  },
  {
   "cell_type": "code",
   "execution_count": null,
   "metadata": {},
   "outputs": [],
   "source": [
    "adata = conga.preprocess.filter_and_scale( adata )"
   ]
  },
  {
   "cell_type": "markdown",
   "metadata": {},
   "source": [
    "## Now we reduce to a single cell per TCR clonotype\n",
    "\n",
    "Do this by computing GEX distances and picking the most representative cell for each clonotype (the one with the smallest average distance to all other cells in the clonotype)"
   ]
  },
  {
   "cell_type": "code",
   "execution_count": null,
   "metadata": {},
   "outputs": [],
   "source": [
    "adata = conga.preprocess.reduce_to_single_cell_per_clone( adata )\n",
    "\n",
    "adata"
   ]
  },
  {
   "cell_type": "markdown",
   "metadata": {},
   "source": [
    "## Now that we've reduced to a single cell per clonotype, run clustering and dimensionality reduction for GEX and for TCR"
   ]
  },
  {
   "cell_type": "code",
   "execution_count": null,
   "metadata": {},
   "outputs": [],
   "source": [
    "adata = conga.preprocess.cluster_and_tsne_and_umap( adata )\n"
   ]
  },
  {
   "cell_type": "code",
   "execution_count": null,
   "metadata": {},
   "outputs": [],
   "source": [
    "adata"
   ]
  },
  {
   "cell_type": "code",
   "execution_count": null,
   "metadata": {},
   "outputs": [],
   "source": [
    "plt.figure(figsize=(12,6))\n",
    "plt.subplot(121)\n",
    "xy = adata.obsm['X_gex_2d']\n",
    "clusters = np.array(adata.obs['clusters_gex'])\n",
    "cmap = plt.get_cmap('tab20')\n",
    "colors = [ cmap.colors[x] for x in clusters]\n",
    "plt.scatter( xy[:,0], xy[:,1], c=colors)\n",
    "plt.title('GEX UMAP colored by GEX clusters')\n",
    "\n",
    "plt.subplot(122)\n",
    "xy = adata.obsm['X_tcr_2d']\n",
    "clusters = np.array(adata.obs['clusters_tcr'])\n",
    "cmap = plt.get_cmap('tab20')\n",
    "colors = [ cmap.colors[x] for x in clusters]\n",
    "plt.scatter( xy[:,0], xy[:,1], c=colors)\n",
    "plt.title('TCR UMAP colored by TCR clusters');\n",
    "\n"
   ]
  },
  {
   "cell_type": "markdown",
   "metadata": {},
   "source": [
    "## Compute the GEX and TCR neighbor sets\n",
    "\n",
    "Also do a bit of other miscellaneous setup"
   ]
  },
  {
   "cell_type": "code",
   "execution_count": null,
   "metadata": {},
   "outputs": [],
   "source": [
    "# these are the nbrhood sizes, as a fraction of the entire dataset:\n",
    "nbr_fracs = [0.01, 0.1]\n",
    "\n",
    "# we use this nbrhood size for computing the nndists\n",
    "nbr_frac_for_nndists = 0.01\n",
    "\n",
    "all_nbrs, nndists_gex, nndists_tcr = conga.preprocess.calc_nbrs(\n",
    "    adata, nbr_fracs, also_calc_nndists=True, nbr_frac_for_nndists=nbr_frac_for_nndists)\n",
    "\n",
    "# stash these in obs array, they are used in a few places...                                                                                                                \n",
    "adata.obs['nndists_gex'] = nndists_gex\n",
    "adata.obs['nndists_tcr'] = nndists_tcr\n",
    "\n",
    "conga.preprocess.setup_tcr_cluster_names(adata) #stores in adata.uns                                                                                                        \n"
   ]
  },
  {
   "cell_type": "markdown",
   "metadata": {},
   "source": [
    "## Run graph-vs-graph analysis"
   ]
  },
  {
   "cell_type": "code",
   "execution_count": null,
   "metadata": {},
   "outputs": [],
   "source": [
    "results = conga.correlations.run_graph_vs_graph(adata, all_nbrs)\n",
    "\n",
    "conga_scores = adata.obs['conga_scores']\n",
    "\n",
    "good_mask = ( conga_scores <= 1.0 )\n",
    "adata.obs['good_score_mask'] = good_mask\n",
    "\n",
    "print(f'found {np.sum(good_mask)} conga hits')\n",
    "\n",
    "results.sort_values('conga_score', inplace=True)\n",
    "\n",
    "results.head(3)"
   ]
  },
  {
   "cell_type": "markdown",
   "metadata": {},
   "source": [
    "### Write the results to a file"
   ]
  },
  {
   "cell_type": "code",
   "execution_count": null,
   "metadata": {},
   "outputs": [],
   "source": [
    "# write the results to a tsv file\n",
    "clusters_gex = np.array(adata.obs['clusters_gex'])\n",
    "clusters_tcr = np.array(adata.obs['clusters_tcr'])\n",
    "\n",
    "indices = results['clone_index']\n",
    "results['gex_cluster'] = clusters_gex[indices]\n",
    "results['tcr_cluster'] = clusters_tcr[indices]\n",
    "for tag in 'va ja cdr3a vb jb cdr3b'.split():\n",
    "    results[tag] = list(adata.obs[tag][indices])\n",
    "tsvfile = outfile_prefix+'_graph_vs_graph_hits.tsv'\n",
    "print('saving graph-vs-graph results to file:',tsvfile)\n",
    "\n",
    "results.to_csv(tsvfile, sep='\\t', index=False)\n"
   ]
  },
  {
   "cell_type": "markdown",
   "metadata": {},
   "source": [
    "### Make a scatterplot colored by conga score"
   ]
  },
  {
   "cell_type": "code",
   "execution_count": null,
   "metadata": {},
   "outputs": [],
   "source": [
    "#put the conga hits on top\n",
    "colors = np.sqrt(np.maximum(-1*np.log10(conga_scores),0.0))\n",
    "reorder = np.argsort(colors)\n",
    "\n",
    "plt.figure(figsize=(12,6))\n",
    "plt.subplot(121)\n",
    "xy = adata.obsm['X_gex_2d']\n",
    "plt.scatter( xy[reorder,0], xy[reorder,1], c=colors[reorder], vmin=0, vmax=np.sqrt(5))\n",
    "plt.title('GEX UMAP colored by conga score')\n",
    "\n",
    "plt.subplot(122)\n",
    "xy = adata.obsm['X_tcr_2d']\n",
    "plt.scatter( xy[reorder,0], xy[reorder,1], c=colors[reorder], vmin=0, vmax=np.sqrt(5))\n",
    "plt.title('TCR UMAP colored by conga score');\n"
   ]
  },
  {
   "cell_type": "markdown",
   "metadata": {},
   "source": [
    "## Make the bicluster logo plots"
   ]
  },
  {
   "cell_type": "code",
   "execution_count": null,
   "metadata": {
    "scrolled": false
   },
   "outputs": [],
   "source": [
    "nbrs_gex, nbrs_tcr = all_nbrs[0.1]\n",
    "\n",
    "min_cluster_size = 5\n",
    "\n",
    "# calc tcr sequence features of good cluster pairs\n",
    "good_bicluster_tcr_scores = conga.correlations.calc_good_cluster_tcr_features(\n",
    "    adata, good_mask, clusters_gex, clusters_tcr, conga.tcr_scoring.all_tcr_scorenames, verbose=False,\n",
    "    min_count=min_cluster_size)\n",
    "\n",
    "# run rank_genes on most common biclusters\n",
    "rank_genes_uns_tag = 'rank_genes_good_biclusters'\n",
    "conga.correlations.run_rank_genes_on_good_biclusters(\n",
    "    adata, good_mask, clusters_gex, clusters_tcr, min_count=min_cluster_size, key_added= rank_genes_uns_tag)\n",
    "\n",
    "gex_header_tcr_score_names = ['mhci2', 'cdr3len', 'cd8', 'nndists_tcr']\n",
    "\n",
    "logo_pngfile = outfile_prefix+'_bicluster_logos.png'\n",
    "\n",
    "conga.plotting.make_logo_plots(\n",
    "    adata, nbrs_gex, nbrs_tcr, min_cluster_size, logo_pngfile,\n",
    "    good_bicluster_tcr_scores=good_bicluster_tcr_scores,\n",
    "    rank_genes_uns_tag = rank_genes_uns_tag,\n",
    "    gex_header_tcr_score_names = gex_header_tcr_score_names )\n"
   ]
  },
  {
   "cell_type": "markdown",
   "metadata": {},
   "source": [
    "### The image that was saved to disk is higher resolution than the one above here in the notebook \n",
    "This should be the one on disk, below. You could try opening it in a new tab, to see the full resolution...\n",
    "![hey](tmp_hs_pbmc_bicluster_logos.png)"
   ]
  },
  {
   "cell_type": "markdown",
   "metadata": {},
   "source": [
    "## Run graph-vs-feature analysis, comparing the TCR graph to GEX features (mostly gene expression)"
   ]
  },
  {
   "cell_type": "code",
   "execution_count": null,
   "metadata": {},
   "outputs": [],
   "source": [
    "pval_threshold = 1.\n",
    "results = []\n",
    "for nbr_frac in nbr_fracs:\n",
    "    nbrs_gex, nbrs_tcr = all_nbrs[nbr_frac]\n",
    "    print('finding biased GEX features for nbrhoods with size', nbr_frac, nbrs_gex.shape)\n",
    "    results.append( conga.correlations.tcr_nbrhood_rank_genes_fast( adata, nbrs_tcr, pval_threshold, verbose=False))\n",
    "    results[-1]['nbr_frac'] = nbr_frac\n",
    "\n",
    "# save the results to a file\n",
    "tsvfile = outfile_prefix+'_tcr_nbr_graph_vs_gex_features.tsv'\n",
    "print('making:', tsvfile)\n",
    "results_df = pd.concat(results, ignore_index=True)\n",
    "results_df.to_csv(tsvfile, index=False, sep='\\t')\n",
    "\n",
    "pngfile = outfile_prefix+'_tcr_nbr_graph_vs_gex_features.png'\n",
    "print('making:', pngfile)\n",
    "conga.plotting.plot_ranked_strings_on_cells(\n",
    "    adata, results_df, 'X_tcr_2d', 'clone_index', 'mwu_pvalue_adj', 1.0, 'feature', pngfile)"
   ]
  },
  {
   "cell_type": "markdown",
   "metadata": {},
   "source": [
    "### Plot the top GEX features on the TCR UMAP landscape"
   ]
  },
  {
   "cell_type": "code",
   "execution_count": null,
   "metadata": {},
   "outputs": [],
   "source": [
    "pngfile = outfile_prefix+'_tcr_nbr_graph_vs_gex_features_panels.png'\n",
    "print('making:', pngfile)\n",
    "conga.plotting.make_feature_panel_plots(adata, 'tcr', all_nbrs, results_df, pngfile)"
   ]
  },
  {
   "cell_type": "markdown",
   "metadata": {},
   "source": [
    "## Run graph-vs-features analysis, comparing the GEX graph to TCR features"
   ]
  },
  {
   "cell_type": "code",
   "execution_count": null,
   "metadata": {},
   "outputs": [],
   "source": [
    "pval_threshold = 1.\n",
    "results = []\n",
    "tcr_score_names = conga.tcr_scoring.all_tcr_scorenames # the TCR features to use\n",
    "for nbr_frac in nbr_fracs:\n",
    "    nbrs_gex, nbrs_tcr = all_nbrs[nbr_frac]\n",
    "    results.append( conga.correlations.gex_nbrhood_rank_tcr_scores(\n",
    "        adata, nbrs_gex, tcr_score_names, pval_threshold, verbose=False ))\n",
    "    results[-1]['nbr_frac'] = nbr_frac\n",
    "results_df = pd.concat(results, ignore_index=True)\n",
    "\n",
    "tsvfile = outfile_prefix+'_gex_nbr_graph_vs_tcr_features.tsv'\n",
    "print('making:', tsvfile)\n",
    "results_df.to_csv(tsvfile, index=False, sep='\\t')\n",
    "\n",
    "pngfile = outfile_prefix+'_gex_nbr_graph_vs_tcr_features.png'\n",
    "print('making:', pngfile)\n",
    "\n",
    "conga.plotting.plot_ranked_strings_on_cells(\n",
    "    adata, results_df, 'X_gex_2d', 'clone_index', 'mwu_pvalue_adj', 1.0, 'feature', pngfile,\n",
    "    direction_column='ttest_stat')"
   ]
  },
  {
   "cell_type": "markdown",
   "metadata": {},
   "source": [
    "### Plot the top TCR score hits on the GEX UMAP landscape"
   ]
  },
  {
   "cell_type": "code",
   "execution_count": null,
   "metadata": {},
   "outputs": [],
   "source": [
    "pngfile = outfile_prefix+'_gex_nbr_graph_vs_tcr_features_panels.png'\n",
    "print('making:', pngfile)\n",
    "conga.plotting.make_feature_panel_plots(adata, 'gex', all_nbrs, results_df, pngfile)"
   ]
  }
 ],
 "metadata": {
  "kernelspec": {
   "display_name": "Python 3",
   "language": "python",
   "name": "python3"
  },
  "language_info": {
   "codemirror_mode": {
    "name": "ipython",
    "version": 3
   },
   "file_extension": ".py",
   "mimetype": "text/x-python",
   "name": "python",
   "nbconvert_exporter": "python",
   "pygments_lexer": "ipython3",
   "version": "3.6.7"
  }
 },
 "nbformat": 4,
 "nbformat_minor": 2
}
